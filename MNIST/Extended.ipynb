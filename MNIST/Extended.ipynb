{
  "nbformat": 4,
  "nbformat_minor": 0,
  "metadata": {
    "colab": {
      "name": "Untitled9.ipynb",
      "provenance": []
    },
    "kernelspec": {
      "name": "python3",
      "display_name": "Python 3"
    },
    "accelerator": "GPU"
  },
  "cells": [
    {
      "cell_type": "code",
      "metadata": {
        "id": "AtQTO7EDhYnZ",
        "colab_type": "code",
        "colab": {}
      },
      "source": [
        "!nvidia-smi"
      ],
      "execution_count": 0,
      "outputs": []
    },
    {
      "cell_type": "code",
      "metadata": {
        "id": "cJB7supiGpPT",
        "colab_type": "code",
        "colab": {}
      },
      "source": [
        "## Essential Libraries.\n",
        "\n",
        "import numpy as np\n",
        "\n",
        "import torch\n",
        "\n",
        "import torchvision\n",
        "import torchvision.transforms as transforms\n",
        "\n",
        "import torch.nn as nn\n",
        "import torch.nn.functional as F"
      ],
      "execution_count": 0,
      "outputs": []
    },
    {
      "cell_type": "code",
      "metadata": {
        "id": "zE3QMEKdhrti",
        "colab_type": "code",
        "colab": {}
      },
      "source": [
        "## Hyperparameters.\n",
        "\n",
        "FLAGS = {\n",
        "\"batch_size\": 128,\n",
        "\"learning_rate\" : 0.001,\n",
        "\"n_epoch1\": 30,\n",
        "\"eps1\": 0.3,\n",
        "\"n_epoch2\": 5,\n",
        "\"eps2\": 0.4}"
      ],
      "execution_count": 0,
      "outputs": []
    },
    {
      "cell_type": "code",
      "metadata": {
        "id": "otkS175DhYse",
        "colab_type": "code",
        "colab": {}
      },
      "source": [
        "## Reading Dataset.\n",
        "\n",
        "transform = transforms.Compose([transforms.ToTensor()])\n",
        "\n",
        "trainset = torchvision.datasets.MNIST(root='./data', train=True,\n",
        "                                      download=True, transform=transform)\n",
        "trainloader = torch.utils.data.DataLoader(trainset, batch_size=FLAGS[\"batch_size\"],\n",
        "                                          shuffle=True, num_workers=1)\n",
        "\n",
        "testset = torchvision.datasets.MNIST(root='./data', train=False,\n",
        "                                     download=True, transform=transform)\n",
        "testloader = torch.utils.data.DataLoader(testset, batch_size=10000,\n",
        "                                         shuffle=False, num_workers=1)"
      ],
      "execution_count": 0,
      "outputs": []
    },
    {
      "cell_type": "code",
      "metadata": {
        "id": "ui2bbqCIhYvH",
        "colab_type": "code",
        "colab": {}
      },
      "source": [
        "## Model.\n",
        "\n",
        "class Net(nn.Module):\n",
        "    def __init__(self):\n",
        "        super(Net, self).__init__()\n",
        "        self.conv1 = nn.Conv2d(1, 32, (5, 5), stride=1)\n",
        "        self.pool = nn.MaxPool2d((2, 2), stride=2)\n",
        "        self.conv2 = nn.Conv2d(32, 64, (5, 5), stride=1)\n",
        "        self.fc1 = nn.Linear(1024, 1024)\n",
        "        self.fc2 = nn.Linear(1024, 10)\n",
        "\n",
        "    def forward(self, x):\n",
        "        x = self.pool(F.relu(self.conv1(x)))\n",
        "        x = self.pool(F.relu(self.conv2(x)))\n",
        "        x = x.view(-1, 1024)\n",
        "        x = F.relu(self.fc1(x))\n",
        "        x = self.fc2(x)\n",
        "        return x"
      ],
      "execution_count": 0,
      "outputs": []
    },
    {
      "cell_type": "code",
      "metadata": {
        "id": "T_6v-CIZhY13",
        "colab_type": "code",
        "colab": {}
      },
      "source": [
        "net = Net()"
      ],
      "execution_count": 0,
      "outputs": []
    },
    {
      "cell_type": "code",
      "metadata": {
        "id": "r7vDxcZ3hY6A",
        "colab_type": "code",
        "colab": {}
      },
      "source": [
        "## Loss and optimizer.\n",
        "\n",
        "criterion = nn.CrossEntropyLoss()\n",
        "optimizer = torch.optim.Adam(net.parameters(), lr=FLAGS[\"learning_rate\"])"
      ],
      "execution_count": 0,
      "outputs": []
    },
    {
      "cell_type": "code",
      "metadata": {
        "id": "VDj8yesmhY8W",
        "colab_type": "code",
        "colab": {}
      },
      "source": [
        "# GPU!\n",
        "\n",
        "device = torch.device(\"cuda:0\" if torch.cuda.is_available() else \"cpu\")\n",
        "net.to(device)"
      ],
      "execution_count": 0,
      "outputs": []
    },
    {
      "cell_type": "code",
      "metadata": {
        "id": "SR5_SavZhZAg",
        "colab_type": "code",
        "colab": {}
      },
      "source": [
        "## PGD attack.\n",
        "\n",
        "def pgd_attack(model, images, labels, eps=FLAGS[\"eps1\"], alpha=0.01, iters=40):\n",
        "\n",
        "    # iters = int((2.5 * eps) / alpha)\n",
        "    \n",
        "    images = images.to(device)\n",
        "    labels = labels.to(device)\n",
        "\n",
        "    loss = torch.nn.CrossEntropyLoss()\n",
        "\n",
        "    ori_images = images\n",
        "    \n",
        "    images = images + torch.zeros_like(images).uniform_(-eps, eps)\n",
        "    images = torch.clamp(images, min=0, max=1)\n",
        "\n",
        "    for i in range(iters):\n",
        "        \n",
        "        images.requires_grad = True\n",
        "\n",
        "        outputs = model(images)\n",
        "\n",
        "        model.zero_grad()\n",
        "\n",
        "        cost = loss(outputs, labels).to(device)\n",
        "        cost.backward()\n",
        "\n",
        "        adv_images = images + alpha*images.grad.sign()\n",
        "        eta = torch.clamp(adv_images - ori_images, min=-eps, max=eps)\n",
        "        images = torch.clamp(ori_images + eta, min=0, max=1).detach_()\n",
        "        \n",
        "    return images"
      ],
      "execution_count": 0,
      "outputs": []
    },
    {
      "cell_type": "code",
      "metadata": {
        "id": "uyjCWeUKhZEQ",
        "colab_type": "code",
        "colab": {}
      },
      "source": [
        "net.train()\n",
        "\n",
        "num_epchos = FLAGS[\"n_epoch1\"]\n",
        "\n",
        "for epoch in range(num_epchos):\n",
        "    \n",
        "    steps = 0\n",
        "    running_loss = 0.0\n",
        "\n",
        "    for i, data in enumerate(trainloader, 0):\n",
        "        \n",
        "        inputs, labels = data[0].to(device), data[1].to(device)\n",
        "\n",
        "        optimizer.zero_grad()\n",
        "        \n",
        "        adv = pgd_attack(net, inputs, labels)\n",
        "\n",
        "        outputs = net(adv)\n",
        "    \n",
        "        loss = criterion(outputs, labels)\n",
        "        loss.backward()\n",
        "\n",
        "        optimizer.step()\n",
        "\n",
        "        steps += 1\n",
        "        running_loss += loss.item()\n",
        "\n",
        "    # print statistics\n",
        "    print('%d loss: %.5f' % (epoch + 1, running_loss / steps))\n",
        "\n",
        "print('Finished Training')"
      ],
      "execution_count": 0,
      "outputs": []
    },
    {
      "cell_type": "code",
      "metadata": {
        "id": "mJgM8uefhZGe",
        "colab_type": "code",
        "colab": {}
      },
      "source": [
        "net.train()\n",
        "\n",
        "num_epchos = FLAGS[\"n_epoch2\"]\n",
        "\n",
        "for epoch in range(num_epchos):\n",
        "    \n",
        "    steps = 0\n",
        "    running_loss = 0.0\n",
        "\n",
        "    for i, data in enumerate(trainloader, 0):\n",
        "        \n",
        "        inputs, labels = data[0].to(device), data[1].to(device)\n",
        "\n",
        "        optimizer.zero_grad()\n",
        "        \n",
        "        adv = pgd_attack(net, inputs, labels, eps=FLAGS[\"eps2\"], alpha=0.005, iters=200)\n",
        "\n",
        "        outputs = net(adv)\n",
        "    \n",
        "        loss = criterion(outputs, labels)\n",
        "        loss.backward()\n",
        "\n",
        "        optimizer.step()\n",
        "\n",
        "        steps += 1\n",
        "        running_loss += loss.item()\n",
        "\n",
        "    # print statistics\n",
        "    print('%d loss: %.5f' % (epoch + 1, running_loss / steps))\n",
        "\n",
        "print('Finished Training')"
      ],
      "execution_count": 0,
      "outputs": []
    },
    {
      "cell_type": "code",
      "metadata": {
        "id": "V6rUewwPhZC6",
        "colab_type": "code",
        "colab": {}
      },
      "source": [
        "## Saving the model.\n",
        "\n",
        "net.eval()\n",
        "\n",
        "PATH = './mnist-' + str(FLAGS[\"eps1\"]) + '-' + str(FLAGS[\"eps2\"]) + '.pth'\n",
        "torch.save(net.state_dict(), PATH)"
      ],
      "execution_count": 0,
      "outputs": []
    },
    {
      "cell_type": "code",
      "metadata": {
        "id": "4X-G6z-ShY_B",
        "colab_type": "code",
        "colab": {}
      },
      "source": [
        "net.eval()"
      ],
      "execution_count": 0,
      "outputs": []
    },
    {
      "cell_type": "code",
      "metadata": {
        "id": "BK0Iz_xOhY4w",
        "colab_type": "code",
        "colab": {}
      },
      "source": [
        "## Natural accuracy.\n",
        "\n",
        "correct = 0\n",
        "total = 0\n",
        "with torch.no_grad():\n",
        "    for data in testloader:\n",
        "        images, labels = data[0].to(device), data[1].to(device)\n",
        "        outputs = net(images)\n",
        "        _, predicted = torch.max(outputs.data, 1)\n",
        "        total += labels.size(0)\n",
        "        correct += (predicted == labels).sum().item()\n",
        "\n",
        "print('Accuracy of the network on the 10000 test images: %f %%' % (100 * correct / total))"
      ],
      "execution_count": 0,
      "outputs": []
    },
    {
      "cell_type": "code",
      "metadata": {
        "id": "DPuogGClhY0y",
        "colab_type": "code",
        "colab": {}
      },
      "source": [
        "## Adversarial accuracy.\n",
        "\n",
        "correct = 0\n",
        "total = 0\n",
        "for data in testloader:\n",
        "    images, labels = data[0].to(device), data[1].to(device)\n",
        "    adv = pgd_attack(net, images, labels, eps=0.4)\n",
        "    outputs = net(adv)\n",
        "    _, predicted = torch.max(outputs.data, 1)\n",
        "    total += labels.size(0)\n",
        "    correct += (predicted == labels).sum().item()\n",
        "print('Adversarial Accuracy of the network on the 10000 test images: %f %%' % (100 * correct / total))"
      ],
      "execution_count": 0,
      "outputs": []
    },
    {
      "cell_type": "code",
      "metadata": {
        "id": "YfH-h7OjhYzL",
        "colab_type": "code",
        "colab": {}
      },
      "source": [
        ""
      ],
      "execution_count": 0,
      "outputs": []
    },
    {
      "cell_type": "code",
      "metadata": {
        "id": "GhRn4TjYhYx4",
        "colab_type": "code",
        "colab": {}
      },
      "source": [
        ""
      ],
      "execution_count": 0,
      "outputs": []
    }
  ]
}